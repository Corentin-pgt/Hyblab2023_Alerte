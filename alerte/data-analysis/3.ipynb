{
 "cells": [
  {
   "cell_type": "code",
   "execution_count": 1,
   "metadata": {},
   "outputs": [],
   "source": [
    "import pandas as pd\n",
    "import matplotlib.pyplot as plt"
   ]
  },
  {
   "cell_type": "code",
   "execution_count": 2,
   "metadata": {},
   "outputs": [],
   "source": [
    "farms = pd.read_csv(\"../data-mining/farms.csv\")\n",
    "rubrics = pd.read_csv(\"../data-mining/rubrics.csv\")\n",
    "stocks = pd.read_csv(\"../data-mining/stocks.csv\")"
   ]
  },
  {
   "cell_type": "code",
   "execution_count": 6,
   "metadata": {},
   "outputs": [
    {
     "name": "stdout",
     "output_type": "stream",
     "text": [
      "9931\n"
     ]
    },
    {
     "name": "stderr",
     "output_type": "stream",
     "text": [
      "C:\\Users\\sabin\\AppData\\Local\\Packages\\PythonSoftwareFoundation.Python.3.9_qbz5n2kfra8p0\\LocalCache\\local-packages\\Python39\\site-packages\\pandas\\core\\dtypes\\cast.py:1134: RuntimeWarning: invalid value encountered in cast\n",
      "  if (arr.astype(int) == arr).all():\n",
      "C:\\Users\\sabin\\AppData\\Local\\Packages\\PythonSoftwareFoundation.Python.3.9_qbz5n2kfra8p0\\LocalCache\\local-packages\\Python39\\site-packages\\pandas\\core\\dtypes\\cast.py:1153: RuntimeWarning: invalid value encountered in cast\n",
      "  if (arr.astype(int) == arr).all():\n"
     ]
    }
   ],
   "source": [
    "# réponse question 3\n",
    "df = farms.merge(stocks, 'inner', left_on= 'name', right_on= 'raison_sociale')\n",
    "df = df.convert_dtypes()\n",
    "dfB = df[df.type == \"BOVINS\"]\n",
    "nbBovins = dfB.type.value_counts()\n",
    "dfP = len(df[df.type == \"PORCS\"])\n",
    "nbPorcs = dfB.type.value_counts()\n",
    "dfV = len(df[df.type == \"VOLAILLES\"])\n",
    "nbVolailles = dfB.type.value_counts()\n",
    "\n",
    "print(int(nbBovins))\n"
   ]
  }
 ],
 "metadata": {
  "kernelspec": {
   "display_name": "Python 3",
   "language": "python",
   "name": "python3"
  },
  "language_info": {
   "codemirror_mode": {
    "name": "ipython",
    "version": 3
   },
   "file_extension": ".py",
   "mimetype": "text/x-python",
   "name": "python",
   "nbconvert_exporter": "python",
   "pygments_lexer": "ipython3",
   "version": "3.9.13"
  },
  "orig_nbformat": 4,
  "vscode": {
   "interpreter": {
    "hash": "ff03e680dcad24eb0e90b425d46b230b8c75f0dd8644c7615808d2ec6cac89ee"
   }
  }
 },
 "nbformat": 4,
 "nbformat_minor": 2
}
