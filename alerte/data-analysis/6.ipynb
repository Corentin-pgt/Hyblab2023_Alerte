{
 "cells": [
  {
   "cell_type": "code",
   "execution_count": 1,
   "metadata": {},
   "outputs": [],
   "source": [
    "import pandas as pd\n",
    "import matplotlib.pyplot as plt\n",
    "import numpy as np"
   ]
  },
  {
   "cell_type": "code",
   "execution_count": 2,
   "metadata": {},
   "outputs": [],
   "source": [
    "farms = pd.read_csv(\"../data-mining/farms.csv\")\n",
    "rubrics = pd.read_csv(\"../data-mining/rubrics.csv\")\n",
    "stocks = pd.read_csv(\"../data-mining/stocks.csv\")"
   ]
  },
  {
   "cell_type": "code",
   "execution_count": 4,
   "metadata": {},
   "outputs": [],
   "source": [
    "def departement_of(code_postal: int) -> int:\n",
    "    departement = int(str(code_postal)[:2])\n",
    "\n",
    "    # dom_tom departement code is 3 digits-long instead of 2\n",
    "    dom_tom: bool = departement == 97\n",
    "    if dom_tom:\n",
    "        departement = int(str(code_postal)[:3])\n",
    "\n",
    "    return departement\n",
    "\n",
    "farms[\"departement\"] = farms.codePostal.apply(departement_of)"
   ]
  },
  {
   "attachments": {},
   "cell_type": "markdown",
   "metadata": {},
   "source": [
    "## Number of \"mise en demeure\" per departement"
   ]
  },
  {
   "cell_type": "code",
   "execution_count": 14,
   "metadata": {},
   "outputs": [],
   "source": [
    "num_mise_en_demeure_in_dpt = farms[farms.mise_en_demeure].groupby([\"departement\"]).size()"
   ]
  },
  {
   "cell_type": "code",
   "execution_count": 16,
   "metadata": {},
   "outputs": [
    {
     "data": {
      "text/plain": [
       "departement\n",
       "16     1\n",
       "26    22\n",
       "28     1\n",
       "29     1\n",
       "31     4\n",
       "35    40\n",
       "37     1\n",
       "39     1\n",
       "42     2\n",
       "44     7\n",
       "46     1\n",
       "50     2\n",
       "53    17\n",
       "55     4\n",
       "59    10\n",
       "62     2\n",
       "64     1\n",
       "67     3\n",
       "71     3\n",
       "72     1\n",
       "79     1\n",
       "80     2\n",
       "85     7\n",
       "88     2\n",
       "dtype: int64"
      ]
     },
     "execution_count": 16,
     "metadata": {},
     "output_type": "execute_result"
    }
   ],
   "source": [
    "num_mise_en_demeure_in_dpt"
   ]
  }
 ],
 "metadata": {
  "kernelspec": {
   "display_name": "env",
   "language": "python",
   "name": "python3"
  },
  "language_info": {
   "codemirror_mode": {
    "name": "ipython",
    "version": 3
   },
   "file_extension": ".py",
   "mimetype": "text/x-python",
   "name": "python",
   "nbconvert_exporter": "python",
   "pygments_lexer": "ipython3",
   "version": "3.10.9"
  },
  "orig_nbformat": 4,
  "vscode": {
   "interpreter": {
    "hash": "603017e67b89045fb850fde7731697f88136b3eb8f54c5328c72c15e8df7e583"
   }
  }
 },
 "nbformat": 4,
 "nbformat_minor": 2
}
